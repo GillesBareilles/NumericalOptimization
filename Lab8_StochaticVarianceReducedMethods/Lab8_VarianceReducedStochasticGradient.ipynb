{
 "cells": [
  {
   "cell_type": "markdown",
   "metadata": {},
   "source": [
    "<center><img src=\"Fig/UGA.png\" width=\"30%\" height=\"30%\"></center>\n",
    "<center><h3>Master of Science in Industrial and Applied Mathematics (MSIAM)  - 1st year</h3></center>\n",
    "<hr>\n",
    "<center><h1>Numerical Optimization</h1></center>\n",
    "<center><h2>Lab 8: Variance-Reduced Stochastic Gradient</h2></center>"
   ]
  },
  {
   "cell_type": "markdown",
   "metadata": {},
   "source": [
    "---\n",
    "\n",
    "### Instructions for the lab\n",
    "\n",
    "Please, read carefully and follow these simple guidelines describing what and how you should send your production. \n",
    "- you have two ways to work:\n",
    "    1. **in this notebook**: write your python code and comments in cells of this notebook, and hand this notebook;\n",
    "    2. **no wotebook, just python**: create and work with your own `.py` file write your comments in a text / mardown / pdf file, and hand them both.\n",
    "- Once you are done, you may\n",
    "    1. compress all relevant files into a compressed archive (`.zip` or `.tar.gz`), named as: `LASTNAME1_Firstname1_LASTNAME2_Firstname2_LASTNAME3_Firstname3.zip`;\n",
    "    2. send this archive be mail to `gilles.bareilles@univ-grenoble-alpes.fr`, with object `[NumOpt] Lab 8 report`. Make sure you mention your names in the body of the mail as well;\n",
    "- I need to be able to run your notebook / python files on my machine **without looking at your code**. Make sure that:\n",
    "    1. you send me all necessary files;\n",
    "    2. if working with python files, indicate in your report what command I should run.\n",
    "\n",
    "You may work alone or in groups of 2 to 3 persons."
   ]
  },
  {
   "cell_type": "markdown",
   "metadata": {},
   "source": [
    "> **Task 0**: Please enter the full names of all members in the next cell."
   ]
  },
  {
   "cell_type": "markdown",
   "metadata": {},
   "source": []
  },
  {
   "cell_type": "code",
   "execution_count": 1,
   "metadata": {},
   "outputs": [],
   "source": [
    "%load_ext autoreload\n",
    "%autoreload 2"
   ]
  },
  {
   "cell_type": "code",
   "execution_count": 2,
   "metadata": {},
   "outputs": [],
   "source": [
    "import numpy as np\n",
    "import logistic_regression_student as pb\n",
    "import timeit\n",
    "\n",
    "import matplotlib.pyplot as plt\n",
    "%matplotlib inline"
   ]
  },
  {
   "cell_type": "markdown",
   "metadata": {},
   "source": [
    "# Logistic Regression Problem\n",
    " \n",
    " \n",
    " \n",
    "### Machine Learning as an Optimization problem\n",
    " \n",
    "We have some *data*  $\\mathcal{D}$ consisting of $m$ *examples* $\\{d_i\\}$; each example consisting of a *feature* vector $a_i\\in\\mathbb{R}^d$ and an *observation* $b_i\\in \\mathcal{O}$: $\\mathcal{D} = \\{[a_i,b_i]\\}_{i=1..m}$. In this lab, we will consider the <a href=\"http://archive.ics.uci.edu/ml/datasets/Student+Performance\">student performance</a> dataset.\n",
    " \n",
    " \n",
    "The goal of *supervised learning* is to construct a predictor for the observations when given feature vectors.\n",
    " \n",
    " \n",
    " A popular approach is based on *linear models* which are based on finding a *parameter* $x$ such that the real number $\\langle a_i , x \\rangle$ is used to predict the value of the observation through a *predictor function* $g:\\mathbb{R}\\to \\mathcal{O}$: $g(\\langle a_i , x \\rangle)$ is the predicted value from $a_i$.\n",
    " \n",
    " \n",
    " In order to find such a parameter, we use the available data and a *loss* $\\ell$ that penalizes the error made between the predicted $g(\\langle a_i , x \\rangle)$ and observed $b_i$ values. For each example $i$, the corresponding error function for a parameter $x$ is $f_i(x) =   \\ell( g(\\langle a_i , x \\rangle) ; b_i )$. Using the whole data, the parameter that minimizes the total error is the solution of the minimization problem\n",
    " $$ \\min_{x\\in\\mathbb{R}^d}  \\frac{1}{m} \\sum_{i=1}^m f_i(x) = \\frac{1}{m} \\sum_{i=1}^m  \\ell( g(\\langle a_i , x \\rangle) ; b_i ). $$\n",
    " \n",
    " \n",
    " \n",
    "### Regularized Problem \n",
    " \n",
    "In this lab, we will consider an $\\ell_1$ regularization to promote sparsity of the iterates. A sparse final solution would select the most important features. The new function (below) is non-smooth but it has a smooth part, $f$; and a non-smooth part, $g$, that we will treat with proximal operations.\n",
    " \n",
    " \\begin{align*}\n",
    "     \\min_{x\\in\\mathbb{R}^d } F(x) := \\underbrace{ \\frac{1}{m} \\sum_{i=1}^m \\overbrace{ \\left( \\log( 1+\\exp(-b_i \\langle a_i,x \\rangle) ) + \\frac{\\lambda_2}{2} \\|x\\|_2^2 \\right) }^{f_i(x)} }_{f(x)} + \\underbrace{\\lambda_1 \\|x\\|_1 }_{g(x)}.\n",
    " \\end{align*}"
   ]
  },
  {
   "cell_type": "markdown",
   "metadata": {},
   "source": [
    "# Recall of the proximal gradient algorithm\n",
    "\n",
    "Below is an implementation of the proximal gradient algorithm."
   ]
  },
  {
   "cell_type": "code",
   "execution_count": 3,
   "metadata": {},
   "outputs": [],
   "source": [
    "def proximal_gradient_algorithm(F , f_grad , g_prox , x0 , step , PREC , ITE_MAX , PRINT ):\n",
    "    x = np.copy(x0)\n",
    "    x_tab = np.copy(x)\n",
    "    if PRINT:\n",
    "        print(\"------------------------------------\\n Proximal gradient algorithm\\n------------------------------------\\nSTART    -- stepsize = {:0}\".format(step))\n",
    "    t_s =  timeit.default_timer()\n",
    "\n",
    "    for k in range(ITE_MAX):\n",
    "        g = f_grad(x)\n",
    "        x = g_prox(x - step*g , step)\n",
    "\n",
    "        x_tab = np.vstack((x_tab,x))\n",
    "\n",
    "    t_e =  timeit.default_timer()\n",
    "    if PRINT:\n",
    "        print(\"FINISHED -- {:d} iterations / {:.6f}s -- final value: {:f}\".format(k,t_e-t_s,F(x)))\n",
    "    return x, x_tab"
   ]
  },
  {
   "cell_type": "code",
   "execution_count": 4,
   "metadata": {},
   "outputs": [
    {
     "name": "stdout",
     "output_type": "stream",
     "text": [
      "------------------------------------\n",
      " Proximal gradient algorithm\n",
      "------------------------------------\n",
      "START    -- stepsize = 0.030334772813507393\n",
      "FINISHED -- 999 iterations / 2.342357s -- final value: 0.438712\n"
     ]
    }
   ],
   "source": [
    "#### Parameter we give our algorithm\n",
    "PREC    = 1e-5                     # Sought precision\n",
    "ITE_MAX = 1000                     # Max number of iterations\n",
    "x0      = np.zeros(pb.n)           # Initial point\n",
    "step    = 1.0/pb.L\n",
    "\n",
    "##### gradient algorithm\n",
    "x,x_tab = proximal_gradient_algorithm(pb.F, pb.f_grad , pb.g_prox, x0, step, PREC, ITE_MAX , True)"
   ]
  },
  {
   "cell_type": "markdown",
   "metadata": {},
   "source": [
    "### Decrease of the algorithm."
   ]
  },
  {
   "cell_type": "code",
   "execution_count": 10,
   "metadata": {},
   "outputs": [
    {
     "data": {
      "image/png": "[encoded data removed]",
      "text/plain": [
       "<Figure size 864x432 with 1 Axes>"
      ]
     },
     "metadata": {
      "needs_background": "light"
     },
     "output_type": "display_data"
    }
   ],
   "source": [
    "xs = range(x_tab.shape[0])\n",
    "ys = [ pb.f(x_tab[ind]) for ind in xs ]\n",
    "\n",
    "fig, ax = plt.subplots(figsize=(12, 6))\n",
    "ax.plot(xs, ys, linewidth=1.0, linestyle='-', label='prox. gradient', color='black')\n",
    "ax.set(xlabel='iteration k', ylabel='f(x_k)')\n",
    "ax.legend(); ax.grid()"
   ]
  },
  {
   "cell_type": "markdown",
   "metadata": {},
   "source": [
    "### Support of the vector $x_k$ "
   ]
  },
  {
   "cell_type": "code",
   "execution_count": 12,
   "metadata": {},
   "outputs": [
    {
     "data": {
      "image/png": "[encoded data removed]",
      "text/plain": [
       "<Figure size 864x432 with 1 Axes>"
      ]
     },
     "metadata": {
      "needs_background": "light"
     },
     "output_type": "display_data"
    }
   ],
   "source": [
    "fig, ax = plt.subplots(figsize=(12, 6))\n",
    "\n",
    "for i in np.arange(0,x_tab.shape[0],int(x_tab.shape[0]/80)):\n",
    "    for j in range(pb.n):\n",
    "        if np.abs(x_tab[i, j])>1e-14:\n",
    "            ax.plot(i, j,'ko')\n",
    "\n",
    "ax.set(ylabel='Non-null Coordinates', xlabel='Nb. Iterations', ylim=(-1,pb.d+1), yticks=np.arange(0,pb.d+1))\n",
    "ax.grid()"
   ]
  },
  {
   "cell_type": "markdown",
   "metadata": {},
   "source": [
    "---\n",
    "# Stochastic methods\n",
    "\n",
    "## Obtaining a stochastic approximation of the gradient\n",
    "\n",
    "In the following, instead of considering $f$ as a whole, we will use its structure \n",
    "$$ f(x) := \\frac{1}{m}\\sum_{i=1}^m f_i(x)$$\n",
    "\n",
    "> **Task 1**: Implement the oracle corresponfing to evaluating $f_i$ and $\\nabla f_i$, the function related to one example, in `logistic_regression_student.py`.\n",
    "\n",
    "> **Task 2**: Compare the evaluation times of $f$, $\\nabla f$, $f_i$, $\\nabla f_i$. What do you notice?"
   ]
  },
  {
   "cell_type": "markdown",
   "metadata": {},
   "source": [
    "Note your comments here."
   ]
  },
  {
   "cell_type": "markdown",
   "metadata": {},
   "source": [
    "##  Stochastic gradient\n",
    "\n",
    "We recall here the stochastic gradient algorithm. It is the basic scheme for dealing with problems with this sum structure. Recall that each iteration $k$ writes as:\n",
    "    \n",
    "1. Pick $i_k$ uniformly in $\\{1, ..., m\\};\n",
    "\n",
    "2. $x_{k+1} = \\mathbf{prox}_{\\gamma_k g}\\left( x_k - \\gamma_k \\nabla f_i(x_k) \\right) $;\n",
    "\n",
    "where $\\gamma_k$ behaves as $1/k$."
   ]
  },
  {
   "cell_type": "code",
   "execution_count": 7,
   "metadata": {},
   "outputs": [],
   "source": [
    "def stochastic_gradient(F, f_grad_ex , g_prox , x0 , PREC , ITE_MAX , PRINT ):\n",
    "    x = np.copy(x0)\n",
    "    x_tab = np.copy(x)\n",
    "    if PRINT:\n",
    "        print(\"------------------------------------\\n Stochastic gradient algorithm\\n------------------------------------\")\n",
    "        print(\"START    -- initial value: {:f}\".format(F(x)))\n",
    "    t_s =  timeit.default_timer()\n",
    "\n",
    "    for k in range(ITE_MAX):\n",
    "        step = 1/(1+k)\n",
    "        i = np.random.randint(pb.m)\n",
    "        gᵢ = f_grad_ex(x, i)\n",
    "        x = g_prox(x - step*gᵢ , step)\n",
    "\n",
    "        x_tab = np.vstack((x_tab,x))\n",
    "\n",
    "    t_e =  timeit.default_timer()\n",
    "    if PRINT:\n",
    "        print(\"FINISHED -- {:d} iterations / {:.6f}s -- final value: {:f}\".format(k,t_e-t_s,F(x)))\n",
    "    return x, x_tab"
   ]
  },
  {
   "cell_type": "code",
   "execution_count": 8,
   "metadata": {},
   "outputs": [
    {
     "name": "stdout",
     "output_type": "stream",
     "text": [
      "------------------------------------\n",
      " Stochastic gradient algorithm\n",
      "------------------------------------\n",
      "START    -- initial value: 0.693147\n",
      "FINISHED -- 99 iterations / 0.005154s -- final value: 0.693147\n"
     ]
    }
   ],
   "source": [
    "x,x_tab_sg = stochastic_gradient(pb.F , pb.f_grad_ex, pb.g_prox, x0, PREC, 100, True)"
   ]
  },
  {
   "cell_type": "markdown",
   "metadata": {},
   "source": [
    "## Variance reduced stochastic gradient\n",
    "\n",
    "The poor performance of the stochastic gradient algorithm is notably due to the variance of the gradients. In order to overcome it, *variance reduced* algorithms have been proposed.\n",
    "\n",
    "We will consider here the popular **SAGA** algorithm  (SAGA: A fast incremental gradient method with support for non-strongly convex composite objectives - A Defazio, F Bach, S Lacoste-Julien, NIPS 2014. ) \n",
    "\n",
    "> **Task 3**: Implement the SAGA algorithm from the paper ( http://papers.nips.cc/paper/5258-saga-a-fast-incremental-gradient-method-with-support-for-non-strongly-convex-composite-objectives )."
   ]
  },
  {
   "cell_type": "code",
   "execution_count": null,
   "metadata": {},
   "outputs": [],
   "source": []
  },
  {
   "cell_type": "markdown",
   "metadata": {},
   "source": [
    "### Decrease and sparsity\n",
    "\n",
    "> **Task 4**: Investigate the decrease of the stochastic gradient algorithm, and the sparsity of the iterates."
   ]
  },
  {
   "cell_type": "code",
   "execution_count": null,
   "metadata": {},
   "outputs": [],
   "source": []
  },
  {
   "cell_type": "markdown",
   "metadata": {},
   "source": [
    "Note your comments here."
   ]
  },
  {
   "cell_type": "markdown",
   "metadata": {},
   "source": [
    "### Implementation choices and validation\n",
    "\n",
    "> **Task 5**: Explain in the next cell the choices you made in implementing the algorithm and how you checked that your implementation is correct."
   ]
  },
  {
   "cell_type": "markdown",
   "metadata": {},
   "source": [
    "Note your comments here."
   ]
  },
  {
   "cell_type": "markdown",
   "metadata": {},
   "source": [
    "### Algorithms comparison\n",
    "\n",
    "> **Task 6**: Compare the efficiency of SAGA with stochastic gradient and proximal gradient descent. In particular, explain how you compare the algorithms."
   ]
  },
  {
   "cell_type": "markdown",
   "metadata": {},
   "source": [
    "Note your comments here."
   ]
  },
  {
   "cell_type": "markdown",
   "metadata": {},
   "source": [
    "### Behavior on convex vs strongly convex problems\n",
    "\n",
    "> **Task 7**: Explore the behavior of the 3 algorihtms on a (merely) convex problem and a strongly convex problem. What rates of convergence can you conjecture? Can you support your conjecture with some numerics?\n",
    "\n",
    "Note that you may tune the values of $\\lambda_1$ and $\\lambda_2$ of the problem as follows:\n",
    "```python\n",
    "#### Parameters defining our problem\n",
    "λ_1 = 0.1\n",
    "λ_2 = 0.03\n",
    "L = 0.25*max(np.linalg.norm(pb.A,2,axis=1))**2 + λ_2  # Lipschitz constant of ∇f\n",
    "\n",
    "F = lambda x: pb.F(x, lambda1=λ_1, lambda2=λ_2)\n",
    "f_grad = lambda x: pb.f_grad(x, lambda2=λ_2)\n",
    "g_prox = lambda x, step: pb.g_prox(x, step, lambda1 = λ_1)\n",
    "```\n",
    "You may then pass directly the functions `F`, `f_grad`, `g_prox` to your algorithm, and use the same pattern to adapt `f_grad_ex`. Notice as well that the Lipschitz constant for this problem is computed, and may be used to set the stepsize of the algorithms."
   ]
  },
  {
   "cell_type": "markdown",
   "metadata": {},
   "source": [
    "Note your comments here."
   ]
  },
  {
   "cell_type": "markdown",
   "metadata": {},
   "source": [
    "### Additional comments"
   ]
  },
  {
   "cell_type": "markdown",
   "metadata": {},
   "source": [
    "Note your comments here"
   ]
  }
 ],
 "metadata": {
  "kernelspec": {
   "display_name": "Python 3",
   "language": "python",
   "name": "python3"
  },
  "language_info": {
   "codemirror_mode": {
    "name": "ipython",
    "version": 3
   },
   "file_extension": ".py",
   "mimetype": "text/x-python",
   "name": "python",
   "nbconvert_exporter": "python",
   "pygments_lexer": "ipython3",
   "version": "3.8.5"
  }
 },
 "nbformat": 4,
 "nbformat_minor": 2
}
